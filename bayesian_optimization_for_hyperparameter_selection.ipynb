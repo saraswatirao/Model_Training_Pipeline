{
  "cells": [
    {
      "cell_type": "markdown",
      "metadata": {
        "papermill": {
          "duration": 0.014674,
          "end_time": "2021-03-30T13:24:31.170118",
          "exception": false,
          "start_time": "2021-03-30T13:24:31.155444",
          "status": "completed"
        },
        "tags": [],
        "id": "UyNdJfO4Ft1N"
      },
      "source": [
        "# Bayesian Optmisation\n",
        "\n",
        "Simple Notebook showing how to use  Bayesian Optimisation (BO) to select parameters value using Jane Street Market dataset.\n",
        "\n",
        "While here I use LGBM, the same logic can be applied to any ML model. It can also be used to define the ANN architecture. The library I will use is *scikit-optimize*. Information on the library and parameters can be found [here](https://scikit-optimize.github.io/stable/modules/generated/skopt.gp_minimize.html).\n",
        "\n",
        "The libraries that need to be imported are:\n",
        "\n",
        "* from skopt import gp_minimize\n",
        "* from skopt.space import Real, Integer\n",
        "* from skopt.utils import use_named_args\n",
        "\n",
        "To keep this short and to the point, I will not extend on how the BO works. If you would like an in depth explanation, I would suggest to read this paper from Peter Frazier (https://arxiv.org/abs/1807.02811). In addition, the set of lectures of [Nando de Freitas](https://www.youtube.com/watch?v=vz3D36VXefI) are extremly valuable and available on Youtube. He also explains Gaussian Process in a marvellous way that blew my mind.\n",
        "\n",
        "Finally, [Jeff Heaton](https://www.youtube.com/watch?v=sXdxyUCCm8s) has a great example on how to use BO to set the architecture of the ANN.\n",
        "\n",
        "Ok, let's get started!"
      ]
    },
    {
      "cell_type": "code",
      "execution_count": null,
      "metadata": {
        "_cell_guid": "b1076dfc-b9ad-4769-8c92-a6c4dae69d19",
        "_kg_hide-input": true,
        "_kg_hide-output": true,
        "_uuid": "8f2839f25d086af736a60e9eeb907d3b93b6e0e5",
        "execution": {
          "iopub.execute_input": "2021-03-30T13:24:31.203342Z",
          "iopub.status.busy": "2021-03-30T13:24:31.202599Z",
          "iopub.status.idle": "2021-03-30T13:24:32.806042Z",
          "shell.execute_reply": "2021-03-30T13:24:32.805291Z"
        },
        "papermill": {
          "duration": 1.622941,
          "end_time": "2021-03-30T13:24:32.806257",
          "exception": false,
          "start_time": "2021-03-30T13:24:31.183316",
          "status": "completed"
        },
        "tags": [],
        "id": "Hi_d-aQsFt1Q",
        "outputId": "c78bc2df-fc69-4acc-8892-5fc85f5552ef"
      },
      "outputs": [
        {
          "data": {
            "text/html": [
              "<style type='text/css'>\n",
              ".datatable table.frame { margin-bottom: 0; }\n",
              ".datatable table.frame thead { border-bottom: none; }\n",
              ".datatable table.frame tr.coltypes td {  color: #FFFFFF;  line-height: 6px;  padding: 0 0.5em;}\n",
              ".datatable .bool    { background: #DDDD99; }\n",
              ".datatable .object  { background: #565656; }\n",
              ".datatable .int     { background: #5D9E5D; }\n",
              ".datatable .float   { background: #4040CC; }\n",
              ".datatable .str     { background: #CC4040; }\n",
              ".datatable .row_index {  background: var(--jp-border-color3);  border-right: 1px solid var(--jp-border-color0);  color: var(--jp-ui-font-color3);  font-size: 9px;}\n",
              ".datatable .frame tr.coltypes .row_index {  background: var(--jp-border-color0);}\n",
              ".datatable th:nth-child(2) { padding-left: 12px; }\n",
              ".datatable .hellipsis {  color: var(--jp-cell-editor-border-color);}\n",
              ".datatable .vellipsis {  background: var(--jp-layout-color0);  color: var(--jp-cell-editor-border-color);}\n",
              ".datatable .na {  color: var(--jp-cell-editor-border-color);  font-size: 80%;}\n",
              ".datatable .footer { font-size: 9px; }\n",
              ".datatable .frame_dimensions {  background: var(--jp-border-color3);  border-top: 1px solid var(--jp-border-color0);  color: var(--jp-ui-font-color3);  display: inline-block;  opacity: 0.6;  padding: 1px 10px 1px 5px;}\n",
              "</style>\n"
            ],
            "text/plain": [
              "<IPython.core.display.HTML object>"
            ]
          },
          "metadata": {},
          "output_type": "display_data"
        }
      ],
      "source": [
        "import numpy as np # linear algebra\n",
        "import pandas as pd # data processing, CSV file I/O (e.g. pd.read_csv)\n",
        "# install datatable\n",
        "#Model\n",
        "from lightgbm import LGBMClassifier\n",
        "#Metrics\n",
        "from sklearn.metrics import roc_auc_score\n",
        "from sklearn.metrics import confusion_matrix\n",
        "from sklearn.metrics import ConfusionMatrixDisplay\n",
        "#Optimisation\n",
        "from skopt import gp_minimize\n",
        "from skopt.space import Real, Integer\n",
        "from skopt.utils import use_named_args"
      ]
    },
    {
      "cell_type": "code",
      "execution_count": null,
      "metadata": {
        "execution": {
          "iopub.execute_input": "2021-03-30T13:24:32.839204Z",
          "iopub.status.busy": "2021-03-30T13:24:32.838188Z",
          "iopub.status.idle": "2021-03-30T13:24:32.845074Z",
          "shell.execute_reply": "2021-03-30T13:24:32.845575Z"
        },
        "papermill": {
          "duration": 0.024783,
          "end_time": "2021-03-30T13:24:32.845757",
          "exception": false,
          "start_time": "2021-03-30T13:24:32.820974",
          "status": "completed"
        },
        "tags": [],
        "id": "tHsKWBKMFt1S"
      },
      "outputs": [],
      "source": [
        "def basic_EDA(df):\n",
        "    size = df.shape\n",
        "    sum_duplicates = df.duplicated().sum()\n",
        "    sum_null = df.isnull().sum().sum()\n",
        "    is_NaN = df. isnull()\n",
        "    row_has_NaN = is_NaN. any(axis=1)\n",
        "    rows_with_NaN = df[row_has_NaN]\n",
        "    count_NaN_rows = rows_with_NaN.shape\n",
        "    return print(\"Number of Samples: %d,\\nNumber of Features: %d,\\nDuplicated Entries: %d,\\nNull Entries: %d,\\nNumber of Rows with Null Entries: %d %.1f%%\" %(size[0],size[1], sum_duplicates, sum_null,count_NaN_rows[0],(count_NaN_rows[0] / df.shape[0])*100))"
      ]
    },
    {
      "cell_type": "markdown",
      "metadata": {
        "papermill": {
          "duration": 0.013278,
          "end_time": "2021-03-30T13:24:32.872978",
          "exception": false,
          "start_time": "2021-03-30T13:24:32.859700",
          "status": "completed"
        },
        "tags": [],
        "id": "4QYdjJjhFt1S"
      },
      "source": [
        "# Data Import\n",
        "\n",
        "I will skip the EDA analysis, and we will jump straight to the data cleansing, processing and model building phase."
      ]
    },
    {
      "cell_type": "code",
      "execution_count": null,
      "metadata": {
        "execution": {
          "iopub.execute_input": "2021-03-30T13:24:32.912812Z",
          "iopub.status.busy": "2021-03-30T13:24:32.912104Z",
          "iopub.status.idle": "2021-03-30T13:27:10.925726Z",
          "shell.execute_reply": "2021-03-30T13:27:10.924956Z"
        },
        "papermill": {
          "duration": 158.03472,
          "end_time": "2021-03-30T13:27:10.925913",
          "exception": false,
          "start_time": "2021-03-30T13:24:32.891193",
          "status": "completed"
        },
        "tags": [],
        "id": "tT0D1znJFt1S"
      },
      "outputs": [],
      "source": [
        "train = pd.read_csv('../input/jane-street-market-prediction/train.csv')"
      ]
    },
    {
      "cell_type": "markdown",
      "metadata": {
        "papermill": {
          "duration": 0.013416,
          "end_time": "2021-03-30T13:27:10.954123",
          "exception": false,
          "start_time": "2021-03-30T13:27:10.940707",
          "status": "completed"
        },
        "tags": [],
        "id": "yKZlf5UCFt1T"
      },
      "source": [
        "According to Jane Street Group:\n",
        "* The set of features, feature_{0...129}, is anonymized and represents real stock market data. Each row is a trading opportunity that we need to predict if the transaction was done (value:1) or not (value: 0).\n",
        "* As we can see from the above table, each sample has an associated **weight** and **resp**, representing the return on the trade.\n",
        "* In the test set, the **resp** features are not provided, as it is (or they are) our target feature.\n",
        "* The **date** feature represents the day of the trade, while **ts_id** represents a time ordering.\n",
        "* In the datasets, features with **weight = 0** were added. However such trades will not contribute towards the scoring evaluation."
      ]
    },
    {
      "cell_type": "code",
      "execution_count": null,
      "metadata": {
        "execution": {
          "iopub.execute_input": "2021-03-30T13:27:11.003645Z",
          "iopub.status.busy": "2021-03-30T13:27:11.002881Z",
          "iopub.status.idle": "2021-03-30T13:28:27.251951Z",
          "shell.execute_reply": "2021-03-30T13:28:27.252512Z"
        },
        "papermill": {
          "duration": 76.284554,
          "end_time": "2021-03-30T13:28:27.252693",
          "exception": false,
          "start_time": "2021-03-30T13:27:10.968139",
          "status": "completed"
        },
        "tags": [],
        "id": "4lxJQLeBFt1T",
        "outputId": "16100e53-17a7-4309-8aff-c7529b91e1b4"
      },
      "outputs": [
        {
          "name": "stdout",
          "output_type": "stream",
          "text": [
            "Number of Samples: 2390491,\n",
            "Number of Features: 138,\n",
            "Duplicated Entries: 0,\n",
            "Null Entries: 6762701,\n",
            "Number of Rows with Null Entries: 397119 16.6%\n"
          ]
        }
      ],
      "source": [
        "basic_EDA(train)"
      ]
    },
    {
      "cell_type": "markdown",
      "metadata": {
        "papermill": {
          "duration": 0.014327,
          "end_time": "2021-03-30T13:28:27.281703",
          "exception": false,
          "start_time": "2021-03-30T13:28:27.267376",
          "status": "completed"
        },
        "tags": [],
        "id": "NhU0Ts96Ft1T"
      },
      "source": [
        "# Data Preparation and Preprocessing\n",
        "\n",
        "If you participating of this challenge, the steps I taken below are already familiar to you.\n",
        "\n",
        "* First we create the action column with our binary target. If res > 1 then 1, else is zero.\n",
        "* Other notebooks have also taken into account resp_1 ... to resp_4. As this is not the goal of this notebook, I will use the simpler approach using only resp as indication of my target\n",
        "* As a blunt missing values strategy, I am just replacing all by the mean. Other strategies can also be valid and should be investigated\n",
        "* I have not used any normalisation or standardization strategy for now"
      ]
    },
    {
      "cell_type": "code",
      "execution_count": null,
      "metadata": {
        "execution": {
          "iopub.execute_input": "2021-03-30T13:28:27.319317Z",
          "iopub.status.busy": "2021-03-30T13:28:27.318200Z",
          "iopub.status.idle": "2021-03-30T13:28:30.791840Z",
          "shell.execute_reply": "2021-03-30T13:28:30.791242Z"
        },
        "papermill": {
          "duration": 3.495165,
          "end_time": "2021-03-30T13:28:30.792005",
          "exception": false,
          "start_time": "2021-03-30T13:28:27.296840",
          "status": "completed"
        },
        "tags": [],
        "id": "eImO5AIiFt1T"
      },
      "outputs": [],
      "source": [
        "train['action'] = ((train['resp'].values) > 0).astype(int)\n",
        "train = train[train['weight'] != 0]\n",
        "\n",
        "features = [c for c in train.columns if 'feature' in c]\n",
        "\n",
        "for i in features:\n",
        "    x = train[i].mean()\n",
        "    train[i] = train[i].fillna(x)\n"
      ]
    },
    {
      "cell_type": "markdown",
      "metadata": {
        "papermill": {
          "duration": 0.014348,
          "end_time": "2021-03-30T13:28:30.821659",
          "exception": false,
          "start_time": "2021-03-30T13:28:30.807311",
          "status": "completed"
        },
        "tags": [],
        "id": "NzNbOYklFt1U"
      },
      "source": [
        "# Model Definition\n",
        "\n",
        "The way I find easier to work with the GP optimisation library is to create a function that defines the model, calls the dataset, trains and output the score. Ideally, you should be using a validation set to choose the best parameters to avoid overfitting to the test set.\n",
        "\n",
        "* My test set is the last 100 days of the data. Again, this is an example on how to use the optimiser rather than a how-to win the challenge\n",
        "* I selected to train and validate with the first 400 days. I will use this timeline to build the training and validation sets\n",
        "* I am using this simple strategy to focus on the optimisation of the model. Usually, for time series,  you would have more than one window of training and validation sets. And the parameters should be selected according to the ones that give the better result on all time windows"
      ]
    },
    {
      "cell_type": "code",
      "execution_count": null,
      "metadata": {
        "execution": {
          "iopub.execute_input": "2021-03-30T13:28:30.863216Z",
          "iopub.status.busy": "2021-03-30T13:28:30.862524Z",
          "iopub.status.idle": "2021-03-30T13:28:30.866191Z",
          "shell.execute_reply": "2021-03-30T13:28:30.865681Z"
        },
        "papermill": {
          "duration": 0.029213,
          "end_time": "2021-03-30T13:28:30.866343",
          "exception": false,
          "start_time": "2021-03-30T13:28:30.837130",
          "status": "completed"
        },
        "tags": [],
        "id": "wSl06XKNFt1U"
      },
      "outputs": [],
      "source": [
        "def model_run(model,train):\n",
        "\n",
        "    timeframe = 400\n",
        "\n",
        "    #Creating X\n",
        "    X = train.copy()\n",
        "    #Defining the Target\n",
        "    y = train.loc[:,['action']]\n",
        "\n",
        "    #Index of training and validation sets\n",
        "    #I defined 300 days of training and 100 days for validation\n",
        "    index_train = X['date'] <= (X['date'].max() - 200)\n",
        "    index_val = (X['date'] > (X['date'].max() - 200)) & (X['date'] <= timeframe)\n",
        "    index_test = X['date'] > timeframe\n",
        "\n",
        "    #print(i, X['date'].max()-30, X['date'].max())\n",
        "\n",
        "    #Removing all other features from X (resp, weight and etc.)\n",
        "    X = X.loc[:, X.columns.str.contains('feature')]\n",
        "\n",
        "    #Creating training and validation sets\n",
        "    X_train = X.loc[index_train]\n",
        "    y_train = y.loc[index_train]\n",
        "\n",
        "    X_val = X.loc[index_val]\n",
        "    y_val = y.loc[index_val]\n",
        "\n",
        "    X_test = X.loc[index_test]\n",
        "    y_test = y.loc[index_test]\n",
        "\n",
        "    #Fitting the model\n",
        "    model.fit(X_train, y_train.values.ravel(),\n",
        "                  eval_metric='auc',\n",
        "                  eval_set=[(X_val, y_val.values.ravel())],\n",
        "                  verbose=-1)\n",
        "\n",
        "    #Using AUC score to evaluate results\n",
        "    AUC_score_val = roc_auc_score(model.predict(X_val),y_val.values.ravel())\n",
        "    AUC_score_test = roc_auc_score(model.predict(X_test),y_test.values.ravel())\n",
        "\n",
        "    print(\"Validation Score: \", AUC_score_val)\n",
        "    print(\"Test Score: \", AUC_score_test)\n",
        "\n",
        "    return AUC_score_val"
      ]
    },
    {
      "cell_type": "markdown",
      "metadata": {
        "papermill": {
          "duration": 0.01801,
          "end_time": "2021-03-30T13:28:30.898975",
          "exception": false,
          "start_time": "2021-03-30T13:28:30.880965",
          "status": "completed"
        },
        "tags": [],
        "id": "VrBgHqzTFt1U"
      },
      "source": [
        "# Optimisation\n",
        "\n",
        "Here is where the optimisation bits start. As we are using LGBM, which is a tree based model, I choose the following parameters to be optimised:\n",
        "\n",
        "* max_depth\n",
        "* num_leaves\n",
        "* regularization params: reg_alpha and lambda\n",
        "\n",
        "The parameters to be optimised needs to be saved within a variable. This variable will be the search space of our optimisation algorithm (hence the name \"space\").\n",
        "\n",
        "* Since all the parameters I chosen are non-decimal values, they need to be defined with the word Integer in front, as shown below\n",
        "* If you want to optimise the learning rate, which is decimal, use Real and check the commented example in the code below\n",
        "\n",
        "For some reason, it works best if you follow this order when setting up your code (really weird error messages when I tried to change):\n",
        "\n",
        "1. Define your search space\n",
        "1. Add **@use_named_args(space)**. This allows the GP opt. to use the params defined in your space variable\n",
        "1. Create the **objective** function\n",
        "\n",
        "Since the score I chosen is AUC, which is the higher the better, it is not ideal to be used directly in the BO optimisation function. The BO is trying to minimise the output, as such it will chose the parameter values that actually reduce the AUC if we leave it as it is.\n",
        "\n",
        "To adapt the AUC score to a minimisation problem, I changed the objective function return output to be **1-AUC Score**. By doing so, the higher the AUC, the smaller the output from the objective function."
      ]
    },
    {
      "cell_type": "code",
      "execution_count": null,
      "metadata": {
        "execution": {
          "iopub.execute_input": "2021-03-30T13:28:30.940780Z",
          "iopub.status.busy": "2021-03-30T13:28:30.940073Z",
          "iopub.status.idle": "2021-03-30T13:28:30.943258Z",
          "shell.execute_reply": "2021-03-30T13:28:30.942753Z"
        },
        "papermill": {
          "duration": 0.029132,
          "end_time": "2021-03-30T13:28:30.943421",
          "exception": false,
          "start_time": "2021-03-30T13:28:30.914289",
          "status": "completed"
        },
        "tags": [],
        "id": "8CfPz3aKFt1U"
      },
      "outputs": [],
      "source": [
        "# Algorithm Search Space\n",
        "space  = [Real(0, 1, name='reg_alpha'),\n",
        "          Real(0, 1, name='reg_lambda'),\n",
        "         Integer(10, 500, name = 'max_depth'),\n",
        "         Integer(10, 500, name = 'num_leaves')]\n",
        "\n",
        "# For decimal numbers do Real(0.5, 0.9, name='learning_rate')\n",
        "# Make sure you imported the Real numbers in \"from skopt.space import Real, Integer\"\n",
        "\n",
        "# Allows the GP optm to go through your defined search space\n",
        "@use_named_args(space)\n",
        "\n",
        "# Function that is going to be called by the optmiser\n",
        "def objective(**params):\n",
        "    # Model - I already predefined the basics parameters\n",
        "    model = LGBMClassifier(objective = 'binary',\n",
        "                           metric = 'auc',\n",
        "                           learning_rate = 0.03,\n",
        "                           early_stopping_round = 50,\n",
        "                           n_estimators = 10000,\n",
        "                           verbose = -1)#,\n",
        "                          #device = 'gpu')\n",
        "\n",
        "    # Sets the parameters defined by the \"space variable\"\n",
        "    model.set_params(**params)\n",
        "\n",
        "    # Calls my model function that returns the AUC of this\n",
        "    # parameter configuration\n",
        "\n",
        "    return 1-(model_run(model,train))"
      ]
    },
    {
      "cell_type": "markdown",
      "metadata": {
        "papermill": {
          "duration": 0.0144,
          "end_time": "2021-03-30T13:28:30.972919",
          "exception": false,
          "start_time": "2021-03-30T13:28:30.958519",
          "status": "completed"
        },
        "tags": [],
        "id": "77ym4_UVFt1U"
      },
      "source": [
        "Below is the line of code that calls the GP optmisation. There are more parameters to be defined, however, I find little difference when changing the acquisition function (acq_func) or the optimization method (acq_optimizer), as the default options seemed to work best for this task.\n",
        "\n",
        "In addition, I would advise to optimise few parameters at a time. While it may seem counterintuitive, in the long run is the best.\n",
        "\n",
        "To elaborate on the remaining parameters (see full description at [skopt-minimize](https://scikit-optimize.github.io/stable/modules/generated/skopt.gp_minimize.html)):\n",
        "\n",
        "> gp_minimize(func, dimensions, base_estimator=None, n_calls=100, n_random_starts=None, n_initial_points=10, initial_point_generator='random', acq_func='gp_hedge', acq_optimizer='auto', x0=None, y0=None, random_state=None, verbose=False, callback=None, n_points=10000, n_restarts_optimizer=5, xi=0.01, kappa=1.96, noise='gaussian', n_jobs=1, model_queue_size=None)\n",
        "\n",
        "1. **func**: I named **objective** as it is the function we are trying to minimise. Everytime, the GP will run this function, evaluate the results and select the next set of parameters according to the AUC results;\n",
        "1. **dimensions**: I named **space**. This is the available search space, where the range of the features are defined.\n",
        "1. **n_calls**: Number of times the GP optm will run to find the best results. I would not leave the default as it takes a long time for this dataset. Increase as you gain more confidence with the process. The GP optm advantage is that is converges rapidly to a good enough solution when compared to other optmisation algorithms. As such, it has been widely used for complex problems that cannot afford to be run 500x.\n",
        "1. **n_initial_points**: To define the best way forward, the GP optm will first run in some random points within the feature space. After this X number of runs, it will define the best \"next\" point to be evaluated and run for the next **n_calls**.\n"
      ]
    },
    {
      "cell_type": "code",
      "execution_count": null,
      "metadata": {
        "_kg_hide-output": true,
        "execution": {
          "iopub.execute_input": "2021-03-30T13:28:31.021651Z",
          "iopub.status.busy": "2021-03-30T13:28:31.018480Z",
          "iopub.status.idle": "2021-03-30T14:25:09.690523Z",
          "shell.execute_reply": "2021-03-30T14:25:09.691161Z"
        },
        "papermill": {
          "duration": 3398.70388,
          "end_time": "2021-03-30T14:25:09.691627",
          "exception": false,
          "start_time": "2021-03-30T13:28:30.987747",
          "status": "completed"
        },
        "tags": [],
        "id": "QlIX7S1RFt1U",
        "outputId": "ee266638-f0b4-436d-eab2-3a3f757c067f"
      },
      "outputs": [
        {
          "name": "stderr",
          "output_type": "stream",
          "text": [
            "/opt/conda/lib/python3.7/site-packages/lightgbm/engine.py:156: UserWarning: Found `early_stopping_round` in params. Will use it instead of argument\n",
            "  warnings.warn(\"Found `{}` in params. Will use it instead of argument\".format(alias))\n"
          ]
        },
        {
          "name": "stdout",
          "output_type": "stream",
          "text": [
            "Training until validation scores don't improve for 50 rounds\n",
            "Early stopping, best iteration is:\n",
            "[189]\tvalid_0's auc: 0.521348\n",
            "Validation Score:  0.5155145386896727\n",
            "Test Score:  0.5165621571288116\n"
          ]
        },
        {
          "name": "stderr",
          "output_type": "stream",
          "text": [
            "/opt/conda/lib/python3.7/site-packages/lightgbm/engine.py:156: UserWarning: Found `early_stopping_round` in params. Will use it instead of argument\n",
            "  warnings.warn(\"Found `{}` in params. Will use it instead of argument\".format(alias))\n"
          ]
        },
        {
          "name": "stdout",
          "output_type": "stream",
          "text": [
            "Training until validation scores don't improve for 50 rounds\n",
            "Early stopping, best iteration is:\n",
            "[57]\tvalid_0's auc: 0.519491\n",
            "Validation Score:  0.5144733357030515\n",
            "Test Score:  0.5137309089412098\n"
          ]
        },
        {
          "name": "stderr",
          "output_type": "stream",
          "text": [
            "/opt/conda/lib/python3.7/site-packages/lightgbm/engine.py:156: UserWarning: Found `early_stopping_round` in params. Will use it instead of argument\n",
            "  warnings.warn(\"Found `{}` in params. Will use it instead of argument\".format(alias))\n"
          ]
        },
        {
          "name": "stdout",
          "output_type": "stream",
          "text": [
            "Training until validation scores don't improve for 50 rounds\n",
            "Early stopping, best iteration is:\n",
            "[156]\tvalid_0's auc: 0.522502\n",
            "Validation Score:  0.5158425716250896\n",
            "Test Score:  0.5162443558930311\n"
          ]
        },
        {
          "name": "stderr",
          "output_type": "stream",
          "text": [
            "/opt/conda/lib/python3.7/site-packages/lightgbm/engine.py:156: UserWarning: Found `early_stopping_round` in params. Will use it instead of argument\n",
            "  warnings.warn(\"Found `{}` in params. Will use it instead of argument\".format(alias))\n"
          ]
        },
        {
          "name": "stdout",
          "output_type": "stream",
          "text": [
            "Training until validation scores don't improve for 50 rounds\n",
            "Early stopping, best iteration is:\n",
            "[281]\tvalid_0's auc: 0.522234\n",
            "Validation Score:  0.5161964637610547\n",
            "Test Score:  0.5172481809397993\n"
          ]
        },
        {
          "name": "stderr",
          "output_type": "stream",
          "text": [
            "/opt/conda/lib/python3.7/site-packages/lightgbm/engine.py:156: UserWarning: Found `early_stopping_round` in params. Will use it instead of argument\n",
            "  warnings.warn(\"Found `{}` in params. Will use it instead of argument\".format(alias))\n"
          ]
        },
        {
          "name": "stdout",
          "output_type": "stream",
          "text": [
            "Training until validation scores don't improve for 50 rounds\n",
            "Early stopping, best iteration is:\n",
            "[154]\tvalid_0's auc: 0.521821\n",
            "Validation Score:  0.515703785901993\n",
            "Test Score:  0.5165148247322521\n"
          ]
        },
        {
          "name": "stderr",
          "output_type": "stream",
          "text": [
            "/opt/conda/lib/python3.7/site-packages/lightgbm/engine.py:156: UserWarning: Found `early_stopping_round` in params. Will use it instead of argument\n",
            "  warnings.warn(\"Found `{}` in params. Will use it instead of argument\".format(alias))\n"
          ]
        },
        {
          "name": "stdout",
          "output_type": "stream",
          "text": [
            "Training until validation scores don't improve for 50 rounds\n",
            "Early stopping, best iteration is:\n",
            "[223]\tvalid_0's auc: 0.524123\n",
            "Validation Score:  0.517292032310819\n",
            "Test Score:  0.5174146416363742\n"
          ]
        },
        {
          "name": "stderr",
          "output_type": "stream",
          "text": [
            "/opt/conda/lib/python3.7/site-packages/lightgbm/engine.py:156: UserWarning: Found `early_stopping_round` in params. Will use it instead of argument\n",
            "  warnings.warn(\"Found `{}` in params. Will use it instead of argument\".format(alias))\n"
          ]
        },
        {
          "name": "stdout",
          "output_type": "stream",
          "text": [
            "Training until validation scores don't improve for 50 rounds\n",
            "Early stopping, best iteration is:\n",
            "[200]\tvalid_0's auc: 0.522645\n",
            "Validation Score:  0.516427324230639\n",
            "Test Score:  0.5158513854251121\n"
          ]
        },
        {
          "name": "stderr",
          "output_type": "stream",
          "text": [
            "/opt/conda/lib/python3.7/site-packages/lightgbm/engine.py:156: UserWarning: Found `early_stopping_round` in params. Will use it instead of argument\n",
            "  warnings.warn(\"Found `{}` in params. Will use it instead of argument\".format(alias))\n"
          ]
        },
        {
          "name": "stdout",
          "output_type": "stream",
          "text": [
            "Training until validation scores don't improve for 50 rounds\n",
            "Early stopping, best iteration is:\n",
            "[182]\tvalid_0's auc: 0.520885\n",
            "Validation Score:  0.5155458516785083\n",
            "Test Score:  0.5181154120189674\n"
          ]
        },
        {
          "name": "stderr",
          "output_type": "stream",
          "text": [
            "/opt/conda/lib/python3.7/site-packages/lightgbm/engine.py:156: UserWarning: Found `early_stopping_round` in params. Will use it instead of argument\n",
            "  warnings.warn(\"Found `{}` in params. Will use it instead of argument\".format(alias))\n"
          ]
        },
        {
          "name": "stdout",
          "output_type": "stream",
          "text": [
            "Training until validation scores don't improve for 50 rounds\n",
            "Early stopping, best iteration is:\n",
            "[384]\tvalid_0's auc: 0.523692\n",
            "Validation Score:  0.5175081994753848\n",
            "Test Score:  0.5168926523469063\n"
          ]
        },
        {
          "name": "stderr",
          "output_type": "stream",
          "text": [
            "/opt/conda/lib/python3.7/site-packages/lightgbm/engine.py:156: UserWarning: Found `early_stopping_round` in params. Will use it instead of argument\n",
            "  warnings.warn(\"Found `{}` in params. Will use it instead of argument\".format(alias))\n"
          ]
        },
        {
          "name": "stdout",
          "output_type": "stream",
          "text": [
            "Training until validation scores don't improve for 50 rounds\n",
            "Early stopping, best iteration is:\n",
            "[204]\tvalid_0's auc: 0.521653\n",
            "Validation Score:  0.5153891743788558\n",
            "Test Score:  0.5161535188021609\n"
          ]
        },
        {
          "name": "stderr",
          "output_type": "stream",
          "text": [
            "/opt/conda/lib/python3.7/site-packages/lightgbm/engine.py:156: UserWarning: Found `early_stopping_round` in params. Will use it instead of argument\n",
            "  warnings.warn(\"Found `{}` in params. Will use it instead of argument\".format(alias))\n"
          ]
        },
        {
          "name": "stdout",
          "output_type": "stream",
          "text": [
            "Training until validation scores don't improve for 50 rounds\n",
            "Early stopping, best iteration is:\n",
            "[199]\tvalid_0's auc: 0.521071\n",
            "Validation Score:  0.5150594827071574\n",
            "Test Score:  0.5134630797671894\n"
          ]
        },
        {
          "name": "stderr",
          "output_type": "stream",
          "text": [
            "/opt/conda/lib/python3.7/site-packages/lightgbm/engine.py:156: UserWarning: Found `early_stopping_round` in params. Will use it instead of argument\n",
            "  warnings.warn(\"Found `{}` in params. Will use it instead of argument\".format(alias))\n"
          ]
        },
        {
          "name": "stdout",
          "output_type": "stream",
          "text": [
            "Training until validation scores don't improve for 50 rounds\n",
            "Early stopping, best iteration is:\n",
            "[412]\tvalid_0's auc: 0.52258\n",
            "Validation Score:  0.5164330485183112\n",
            "Test Score:  0.517921322061715\n"
          ]
        },
        {
          "name": "stderr",
          "output_type": "stream",
          "text": [
            "/opt/conda/lib/python3.7/site-packages/lightgbm/engine.py:156: UserWarning: Found `early_stopping_round` in params. Will use it instead of argument\n",
            "  warnings.warn(\"Found `{}` in params. Will use it instead of argument\".format(alias))\n"
          ]
        },
        {
          "name": "stdout",
          "output_type": "stream",
          "text": [
            "Training until validation scores don't improve for 50 rounds\n",
            "Early stopping, best iteration is:\n",
            "[190]\tvalid_0's auc: 0.522586\n",
            "Validation Score:  0.5169280187767898\n",
            "Test Score:  0.5177375919329478\n"
          ]
        },
        {
          "name": "stderr",
          "output_type": "stream",
          "text": [
            "/opt/conda/lib/python3.7/site-packages/lightgbm/engine.py:156: UserWarning: Found `early_stopping_round` in params. Will use it instead of argument\n",
            "  warnings.warn(\"Found `{}` in params. Will use it instead of argument\".format(alias))\n"
          ]
        },
        {
          "name": "stdout",
          "output_type": "stream",
          "text": [
            "Training until validation scores don't improve for 50 rounds\n",
            "Early stopping, best iteration is:\n",
            "[342]\tvalid_0's auc: 0.523061\n",
            "Validation Score:  0.5166623743460889\n",
            "Test Score:  0.5167224163001337\n"
          ]
        },
        {
          "name": "stderr",
          "output_type": "stream",
          "text": [
            "/opt/conda/lib/python3.7/site-packages/lightgbm/engine.py:156: UserWarning: Found `early_stopping_round` in params. Will use it instead of argument\n",
            "  warnings.warn(\"Found `{}` in params. Will use it instead of argument\".format(alias))\n"
          ]
        },
        {
          "name": "stdout",
          "output_type": "stream",
          "text": [
            "Training until validation scores don't improve for 50 rounds\n",
            "Early stopping, best iteration is:\n",
            "[231]\tvalid_0's auc: 0.523014\n",
            "Validation Score:  0.5172005346192524\n",
            "Test Score:  0.5170802534534814\n"
          ]
        },
        {
          "name": "stderr",
          "output_type": "stream",
          "text": [
            "/opt/conda/lib/python3.7/site-packages/lightgbm/engine.py:156: UserWarning: Found `early_stopping_round` in params. Will use it instead of argument\n",
            "  warnings.warn(\"Found `{}` in params. Will use it instead of argument\".format(alias))\n"
          ]
        },
        {
          "name": "stdout",
          "output_type": "stream",
          "text": [
            "Training until validation scores don't improve for 50 rounds\n",
            "Early stopping, best iteration is:\n",
            "[435]\tvalid_0's auc: 0.52413\n",
            "Validation Score:  0.517346018632677\n",
            "Test Score:  0.5173264959637617\n"
          ]
        },
        {
          "name": "stderr",
          "output_type": "stream",
          "text": [
            "/opt/conda/lib/python3.7/site-packages/lightgbm/engine.py:156: UserWarning: Found `early_stopping_round` in params. Will use it instead of argument\n",
            "  warnings.warn(\"Found `{}` in params. Will use it instead of argument\".format(alias))\n"
          ]
        },
        {
          "name": "stdout",
          "output_type": "stream",
          "text": [
            "Training until validation scores don't improve for 50 rounds\n",
            "Early stopping, best iteration is:\n",
            "[453]\tvalid_0's auc: 0.524353\n",
            "Validation Score:  0.5174635376946396\n",
            "Test Score:  0.517954367289677\n"
          ]
        },
        {
          "name": "stderr",
          "output_type": "stream",
          "text": [
            "/opt/conda/lib/python3.7/site-packages/lightgbm/engine.py:156: UserWarning: Found `early_stopping_round` in params. Will use it instead of argument\n",
            "  warnings.warn(\"Found `{}` in params. Will use it instead of argument\".format(alias))\n"
          ]
        },
        {
          "name": "stdout",
          "output_type": "stream",
          "text": [
            "Training until validation scores don't improve for 50 rounds\n",
            "Early stopping, best iteration is:\n",
            "[244]\tvalid_0's auc: 0.523343\n",
            "Validation Score:  0.5171192986549951\n",
            "Test Score:  0.517449239047174\n"
          ]
        },
        {
          "name": "stderr",
          "output_type": "stream",
          "text": [
            "/opt/conda/lib/python3.7/site-packages/lightgbm/engine.py:156: UserWarning: Found `early_stopping_round` in params. Will use it instead of argument\n",
            "  warnings.warn(\"Found `{}` in params. Will use it instead of argument\".format(alias))\n"
          ]
        },
        {
          "name": "stdout",
          "output_type": "stream",
          "text": [
            "Training until validation scores don't improve for 50 rounds\n",
            "Early stopping, best iteration is:\n",
            "[175]\tvalid_0's auc: 0.521847\n",
            "Validation Score:  0.5161813796485107\n",
            "Test Score:  0.5171663532040602\n"
          ]
        },
        {
          "name": "stderr",
          "output_type": "stream",
          "text": [
            "/opt/conda/lib/python3.7/site-packages/lightgbm/engine.py:156: UserWarning: Found `early_stopping_round` in params. Will use it instead of argument\n",
            "  warnings.warn(\"Found `{}` in params. Will use it instead of argument\".format(alias))\n"
          ]
        },
        {
          "name": "stdout",
          "output_type": "stream",
          "text": [
            "Training until validation scores don't improve for 50 rounds\n",
            "Early stopping, best iteration is:\n",
            "[440]\tvalid_0's auc: 0.524215\n",
            "Validation Score:  0.5170653248371054\n",
            "Test Score:  0.5168203005353238\n"
          ]
        }
      ],
      "source": [
        "res_gp = gp_minimize(objective, space, n_calls=20, n_initial_points = 10, random_state=0)"
      ]
    },
    {
      "cell_type": "code",
      "execution_count": null,
      "metadata": {
        "execution": {
          "iopub.execute_input": "2021-03-30T14:25:09.777013Z",
          "iopub.status.busy": "2021-03-30T14:25:09.775873Z",
          "iopub.status.idle": "2021-03-30T14:25:09.784467Z",
          "shell.execute_reply": "2021-03-30T14:25:09.785007Z"
        },
        "papermill": {
          "duration": 0.053773,
          "end_time": "2021-03-30T14:25:09.785201",
          "exception": false,
          "start_time": "2021-03-30T14:25:09.731428",
          "status": "completed"
        },
        "tags": [],
        "id": "d4aq1_cKFt1V",
        "outputId": "eed00cb1-5dda-4d8b-aa49-82ca31e09121"
      },
      "outputs": [
        {
          "name": "stdout",
          "output_type": "stream",
          "text": [
            "Best score=0.5175\n",
            "Best parameters:\n",
            "- reg_alpha = 0.22\n",
            "- reg_lambda = 0.14\n",
            "- max_depth = 169\n",
            "- num_leaves = 83\n"
          ]
        }
      ],
      "source": [
        "print(\"Best score=%.4f\" % (1-res_gp.fun))\n",
        "\n",
        "print(\"\"\"Best parameters:\n",
        "- reg_alpha = %.2f\n",
        "- reg_lambda = %.2f\n",
        "- max_depth = %d\n",
        "- num_leaves = %d\"\"\" % (res_gp.x[0], res_gp.x[1],res_gp.x[2], res_gp.x[3]))"
      ]
    },
    {
      "cell_type": "code",
      "execution_count": null,
      "metadata": {
        "execution": {
          "iopub.execute_input": "2021-03-30T14:25:09.874922Z",
          "iopub.status.busy": "2021-03-30T14:25:09.874173Z",
          "iopub.status.idle": "2021-03-30T14:25:10.380657Z",
          "shell.execute_reply": "2021-03-30T14:25:10.380062Z"
        },
        "papermill": {
          "duration": 0.553744,
          "end_time": "2021-03-30T14:25:10.380816",
          "exception": false,
          "start_time": "2021-03-30T14:25:09.827072",
          "status": "completed"
        },
        "tags": [],
        "id": "6l_YVo_fFt1V",
        "outputId": "8e71237b-b928-4073-acfc-9ca70444cf5c"
      },
      "outputs": [
        {
          "data": {
            "text/plain": [
              "<AxesSubplot:title={'center':'Convergence plot'}, xlabel='Number of calls $n$', ylabel='$\\\\min f(x)$ after $n$ calls'>"
            ]
          },
          "execution_count": 10,
          "metadata": {},
          "output_type": "execute_result"
        },
        {
          "data": {
            "image/png": "[encoded data removed]",
            "text/plain": [
              "<Figure size 432x288 with 1 Axes>"
            ]
          },
          "metadata": {
            "needs_background": "light"
          },
          "output_type": "display_data"
        }
      ],
      "source": [
        "#If you would like to plot the results\n",
        "\n",
        "from skopt.plots import plot_convergence\n",
        "\n",
        "plot_convergence(res_gp)"
      ]
    },
    {
      "cell_type": "markdown",
      "metadata": {
        "papermill": {
          "duration": 0.04221,
          "end_time": "2021-03-30T14:25:10.465116",
          "exception": false,
          "start_time": "2021-03-30T14:25:10.422906",
          "status": "completed"
        },
        "tags": [],
        "id": "QlujhPA-Ft1V"
      },
      "source": [
        "From the convergence plot we can see that there is not much gain after 20 rounds of optimisation. As such, we could reduce the number of iterations (n_calls) from **20** to **10** to speed up the optimisation process."
      ]
    },
    {
      "cell_type": "markdown",
      "metadata": {
        "papermill": {
          "duration": 0.041754,
          "end_time": "2021-03-30T14:25:10.548993",
          "exception": false,
          "start_time": "2021-03-30T14:25:10.507239",
          "status": "completed"
        },
        "tags": [],
        "id": "AsvotSEHFt1V"
      },
      "source": [
        "# Create final Optimised Model\n",
        "\n",
        "Below we use the output of the BO to define our final model. GPU is turned off as I am using for another Kaggle window :)"
      ]
    },
    {
      "cell_type": "code",
      "execution_count": null,
      "metadata": {
        "execution": {
          "iopub.execute_input": "2021-03-30T14:25:10.646633Z",
          "iopub.status.busy": "2021-03-30T14:25:10.645662Z",
          "iopub.status.idle": "2021-03-30T14:25:10.649294Z",
          "shell.execute_reply": "2021-03-30T14:25:10.648588Z"
        },
        "papermill": {
          "duration": 0.055299,
          "end_time": "2021-03-30T14:25:10.649448",
          "exception": false,
          "start_time": "2021-03-30T14:25:10.594149",
          "status": "completed"
        },
        "tags": [],
        "id": "I-QjwKMBFt1V"
      },
      "outputs": [],
      "source": [
        "params = {\n",
        "'objective': 'binary',\n",
        "\"metric\": \"auc\",\n",
        "\"learning_rate\": 0.03,\n",
        "\"reg_lambda\":res_gp.x[0],\n",
        "\"reg_alpha\": res_gp.x[1],\n",
        "\"max_depth\": res_gp.x[2],\n",
        "\"num_leaves\": res_gp.x[3],\n",
        "\"n_estimators\": 350,\n",
        "\"boosting_type\":\"gbdt\",\n",
        "'random_state': 0,\n",
        "#\"device\": \"gpu\"\n",
        "}"
      ]
    },
    {
      "cell_type": "markdown",
      "metadata": {
        "papermill": {
          "duration": 0.045358,
          "end_time": "2021-03-30T14:25:10.739698",
          "exception": false,
          "start_time": "2021-03-30T14:25:10.694340",
          "status": "completed"
        },
        "tags": [],
        "id": "uz5n3Uy0Ft1V"
      },
      "source": [
        "Now instead of using training and validation sets, we make the most of the data made available. We train the whole model again, now with the final parameters defined by the optimiser."
      ]
    },
    {
      "cell_type": "code",
      "execution_count": null,
      "metadata": {
        "execution": {
          "iopub.execute_input": "2021-03-30T14:25:10.832900Z",
          "iopub.status.busy": "2021-03-30T14:25:10.832101Z",
          "iopub.status.idle": "2021-03-30T14:28:58.503840Z",
          "shell.execute_reply": "2021-03-30T14:28:58.504395Z"
        },
        "papermill": {
          "duration": 227.722602,
          "end_time": "2021-03-30T14:28:58.504621",
          "exception": false,
          "start_time": "2021-03-30T14:25:10.782019",
          "status": "completed"
        },
        "tags": [],
        "id": "codJeImFFt1V",
        "outputId": "02916954-204a-403d-8d87-4bf8e555b706"
      },
      "outputs": [
        {
          "name": "stdout",
          "output_type": "stream",
          "text": [
            "AUC Score:  0.5797744168456851\n"
          ]
        }
      ],
      "source": [
        "model = LGBMClassifier()\n",
        "model.set_params(**params)\n",
        "\n",
        "#Now that  we use the whole data to train and create final model\n",
        "\n",
        "X = train.copy()\n",
        "#Defining the Target\n",
        "y = train.loc[:,['action']]\n",
        "\n",
        "X = X.loc[:, X.columns.str.contains('feature')]\n",
        "\n",
        "#Fitting the model\n",
        "model.fit(X,y.values.ravel())\n",
        "\n",
        "#Using AUC score to evaluate results\n",
        "AUC_score = roc_auc_score(model.predict(X),y.values.ravel())\n",
        "\n",
        "#The score is higher as it is based on a training set\n",
        "#but is just to give an overall idea\n",
        "print(\"AUC Score: \", AUC_score)"
      ]
    },
    {
      "cell_type": "markdown",
      "metadata": {
        "papermill": {
          "duration": 0.04181,
          "end_time": "2021-03-30T14:28:58.588740",
          "exception": false,
          "start_time": "2021-03-30T14:28:58.546930",
          "status": "completed"
        },
        "tags": [],
        "id": "voxHSUQIFt1V"
      },
      "source": [
        "During the parameter optimisation phase, I set the n_estimators very high (10.000) as the early stopping would control and avoid overfitting. For the final model, I used n_estimators = 350 instead as I am not using early_stopping to avoid overfitting. I did not use early_stopping as it requires the usage of a validation set and I wanted to train the model with the full data.\n",
        "\n",
        "Try to optmise the n_estimators. Otherwise, use a subset as the validation set and use early stopping. Also, perhaps focusing more effort on regularization parameters and feature engineering are the way to go.\n",
        "\n",
        "Hopefully this has been helpful. I am happy that some people upvoted, thank you!"
      ]
    }
  ],
  "metadata": {
    "kernelspec": {
      "display_name": "Python 3",
      "language": "python",
      "name": "python3"
    },
    "language_info": {
      "codemirror_mode": {
        "name": "ipython",
        "version": 3
      },
      "file_extension": ".py",
      "mimetype": "text/x-python",
      "name": "python",
      "nbconvert_exporter": "python",
      "pygments_lexer": "ipython3",
      "version": "3.7.9"
    },
    "papermill": {
      "default_parameters": {},
      "duration": 3874.697182,
      "end_time": "2021-03-30T14:28:59.544197",
      "environment_variables": {},
      "exception": null,
      "input_path": "__notebook__.ipynb",
      "output_path": "__notebook__.ipynb",
      "parameters": {},
      "start_time": "2021-03-30T13:24:24.847015",
      "version": "2.2.2"
    },
    "colab": {
      "provenance": []
    }
  },
  "nbformat": 4,
  "nbformat_minor": 0
}